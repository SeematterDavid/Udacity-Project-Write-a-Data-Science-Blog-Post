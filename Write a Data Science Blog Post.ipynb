{
 "cells": [
  {
   "cell_type": "code",
   "execution_count": 238,
   "metadata": {},
   "outputs": [],
   "source": [
    "import numpy as np\n",
    "import pandas as pd\n",
    "import matplotlib.pyplot as plt\n",
    "from IPython import display\n",
    "from sklearn.model_selection import train_test_split\n",
    "from sklearn.metrics import r2_score, mean_squared_error, median_absolute_error\n",
    "from sklearn.ensemble import RandomForestRegressor\n",
    "import seaborn as sns\n",
    "%matplotlib inline\n"
   ]
  },
  {
   "cell_type": "markdown",
   "metadata": {},
   "source": [
    "## 1. UNDERSTANDING THE BUSINESS\n",
    "As part of analysing the Stack Overflow 2017 Survey Data I would want to focus on an interesting aspect of the business of Stack Overflow site - What are the different aspects and parameters which impact the satisfaction of the users of this site? This will help the business take decisions about how they can improve the loyalty, increase user base and improve ad revenue. \n",
    "\n",
    "Key Questions I would focus upon - \n",
    "1. How does StackOverflow Satisfaction levels vary with employment status? Is there an affinity of a particular employment status group? \n",
    "2. How does StackOverflow Satisfaction levels vary with activity level on stack overflow?\n",
    "3. How is the perception of Ads relevance/ disturbance impact the user satisfaction level?\n",
    "4. Which are the couple of highest impact parameters impacting user satisfaction among all?\n",
    "\n",
    "## 2. UNDERSTANDING OF THE DATA"
   ]
  },
  {
   "cell_type": "code",
   "execution_count": 199,
   "metadata": {},
   "outputs": [
    {
     "name": "stdout",
     "output_type": "stream",
     "text": [
      "(51392, 154)\n",
      "<class 'pandas.core.frame.DataFrame'>\n",
      "RangeIndex: 51392 entries, 0 to 51391\n",
      "Columns: 154 entries, Respondent to ExpectedSalary\n",
      "dtypes: float64(6), int64(1), object(147)\n",
      "memory usage: 60.4+ MB\n",
      "None\n"
     ]
    },
    {
     "data": {
      "text/html": [
       "<div>\n",
       "<style scoped>\n",
       "    .dataframe tbody tr th:only-of-type {\n",
       "        vertical-align: middle;\n",
       "    }\n",
       "\n",
       "    .dataframe tbody tr th {\n",
       "        vertical-align: top;\n",
       "    }\n",
       "\n",
       "    .dataframe thead th {\n",
       "        text-align: right;\n",
       "    }\n",
       "</style>\n",
       "<table border=\"1\" class=\"dataframe\">\n",
       "  <thead>\n",
       "    <tr style=\"text-align: right;\">\n",
       "      <th></th>\n",
       "      <th>Respondent</th>\n",
       "      <th>Professional</th>\n",
       "      <th>ProgramHobby</th>\n",
       "      <th>Country</th>\n",
       "      <th>University</th>\n",
       "      <th>EmploymentStatus</th>\n",
       "      <th>FormalEducation</th>\n",
       "      <th>MajorUndergrad</th>\n",
       "      <th>HomeRemote</th>\n",
       "      <th>CompanySize</th>\n",
       "      <th>...</th>\n",
       "      <th>StackOverflowMakeMoney</th>\n",
       "      <th>Gender</th>\n",
       "      <th>HighestEducationParents</th>\n",
       "      <th>Race</th>\n",
       "      <th>SurveyLong</th>\n",
       "      <th>QuestionsInteresting</th>\n",
       "      <th>QuestionsConfusing</th>\n",
       "      <th>InterestedAnswers</th>\n",
       "      <th>Salary</th>\n",
       "      <th>ExpectedSalary</th>\n",
       "    </tr>\n",
       "  </thead>\n",
       "  <tbody>\n",
       "    <tr>\n",
       "      <th>0</th>\n",
       "      <td>1</td>\n",
       "      <td>Student</td>\n",
       "      <td>Yes, both</td>\n",
       "      <td>United States</td>\n",
       "      <td>No</td>\n",
       "      <td>Not employed, and not looking for work</td>\n",
       "      <td>Secondary school</td>\n",
       "      <td>NaN</td>\n",
       "      <td>NaN</td>\n",
       "      <td>NaN</td>\n",
       "      <td>...</td>\n",
       "      <td>Strongly disagree</td>\n",
       "      <td>Male</td>\n",
       "      <td>High school</td>\n",
       "      <td>White or of European descent</td>\n",
       "      <td>Strongly disagree</td>\n",
       "      <td>Strongly agree</td>\n",
       "      <td>Disagree</td>\n",
       "      <td>Strongly agree</td>\n",
       "      <td>NaN</td>\n",
       "      <td>NaN</td>\n",
       "    </tr>\n",
       "    <tr>\n",
       "      <th>1</th>\n",
       "      <td>2</td>\n",
       "      <td>Student</td>\n",
       "      <td>Yes, both</td>\n",
       "      <td>United Kingdom</td>\n",
       "      <td>Yes, full-time</td>\n",
       "      <td>Employed part-time</td>\n",
       "      <td>Some college/university study without earning ...</td>\n",
       "      <td>Computer science or software engineering</td>\n",
       "      <td>More than half, but not all, the time</td>\n",
       "      <td>20 to 99 employees</td>\n",
       "      <td>...</td>\n",
       "      <td>Strongly disagree</td>\n",
       "      <td>Male</td>\n",
       "      <td>A master's degree</td>\n",
       "      <td>White or of European descent</td>\n",
       "      <td>Somewhat agree</td>\n",
       "      <td>Somewhat agree</td>\n",
       "      <td>Disagree</td>\n",
       "      <td>Strongly agree</td>\n",
       "      <td>NaN</td>\n",
       "      <td>37500.0</td>\n",
       "    </tr>\n",
       "    <tr>\n",
       "      <th>2</th>\n",
       "      <td>3</td>\n",
       "      <td>Professional developer</td>\n",
       "      <td>Yes, both</td>\n",
       "      <td>United Kingdom</td>\n",
       "      <td>No</td>\n",
       "      <td>Employed full-time</td>\n",
       "      <td>Bachelor's degree</td>\n",
       "      <td>Computer science or software engineering</td>\n",
       "      <td>Less than half the time, but at least one day ...</td>\n",
       "      <td>10,000 or more employees</td>\n",
       "      <td>...</td>\n",
       "      <td>Disagree</td>\n",
       "      <td>Male</td>\n",
       "      <td>A professional degree</td>\n",
       "      <td>White or of European descent</td>\n",
       "      <td>Somewhat agree</td>\n",
       "      <td>Agree</td>\n",
       "      <td>Disagree</td>\n",
       "      <td>Agree</td>\n",
       "      <td>113750.0</td>\n",
       "      <td>NaN</td>\n",
       "    </tr>\n",
       "    <tr>\n",
       "      <th>3</th>\n",
       "      <td>4</td>\n",
       "      <td>Professional non-developer who sometimes write...</td>\n",
       "      <td>Yes, both</td>\n",
       "      <td>United States</td>\n",
       "      <td>No</td>\n",
       "      <td>Employed full-time</td>\n",
       "      <td>Doctoral degree</td>\n",
       "      <td>A non-computer-focused engineering discipline</td>\n",
       "      <td>Less than half the time, but at least one day ...</td>\n",
       "      <td>10,000 or more employees</td>\n",
       "      <td>...</td>\n",
       "      <td>Disagree</td>\n",
       "      <td>Male</td>\n",
       "      <td>A doctoral degree</td>\n",
       "      <td>White or of European descent</td>\n",
       "      <td>Agree</td>\n",
       "      <td>Agree</td>\n",
       "      <td>Somewhat agree</td>\n",
       "      <td>Strongly agree</td>\n",
       "      <td>NaN</td>\n",
       "      <td>NaN</td>\n",
       "    </tr>\n",
       "    <tr>\n",
       "      <th>4</th>\n",
       "      <td>5</td>\n",
       "      <td>Professional developer</td>\n",
       "      <td>Yes, I program as a hobby</td>\n",
       "      <td>Switzerland</td>\n",
       "      <td>No</td>\n",
       "      <td>Employed full-time</td>\n",
       "      <td>Master's degree</td>\n",
       "      <td>Computer science or software engineering</td>\n",
       "      <td>Never</td>\n",
       "      <td>10 to 19 employees</td>\n",
       "      <td>...</td>\n",
       "      <td>NaN</td>\n",
       "      <td>NaN</td>\n",
       "      <td>NaN</td>\n",
       "      <td>NaN</td>\n",
       "      <td>NaN</td>\n",
       "      <td>NaN</td>\n",
       "      <td>NaN</td>\n",
       "      <td>NaN</td>\n",
       "      <td>NaN</td>\n",
       "      <td>NaN</td>\n",
       "    </tr>\n",
       "  </tbody>\n",
       "</table>\n",
       "<p>5 rows × 154 columns</p>\n",
       "</div>"
      ],
      "text/plain": [
       "   Respondent                                       Professional  \\\n",
       "0           1                                            Student   \n",
       "1           2                                            Student   \n",
       "2           3                             Professional developer   \n",
       "3           4  Professional non-developer who sometimes write...   \n",
       "4           5                             Professional developer   \n",
       "\n",
       "                ProgramHobby         Country      University  \\\n",
       "0                  Yes, both   United States              No   \n",
       "1                  Yes, both  United Kingdom  Yes, full-time   \n",
       "2                  Yes, both  United Kingdom              No   \n",
       "3                  Yes, both   United States              No   \n",
       "4  Yes, I program as a hobby     Switzerland              No   \n",
       "\n",
       "                         EmploymentStatus  \\\n",
       "0  Not employed, and not looking for work   \n",
       "1                      Employed part-time   \n",
       "2                      Employed full-time   \n",
       "3                      Employed full-time   \n",
       "4                      Employed full-time   \n",
       "\n",
       "                                     FormalEducation  \\\n",
       "0                                   Secondary school   \n",
       "1  Some college/university study without earning ...   \n",
       "2                                  Bachelor's degree   \n",
       "3                                    Doctoral degree   \n",
       "4                                    Master's degree   \n",
       "\n",
       "                                  MajorUndergrad  \\\n",
       "0                                            NaN   \n",
       "1       Computer science or software engineering   \n",
       "2       Computer science or software engineering   \n",
       "3  A non-computer-focused engineering discipline   \n",
       "4       Computer science or software engineering   \n",
       "\n",
       "                                          HomeRemote  \\\n",
       "0                                                NaN   \n",
       "1              More than half, but not all, the time   \n",
       "2  Less than half the time, but at least one day ...   \n",
       "3  Less than half the time, but at least one day ...   \n",
       "4                                              Never   \n",
       "\n",
       "                CompanySize       ...       StackOverflowMakeMoney Gender  \\\n",
       "0                       NaN       ...            Strongly disagree   Male   \n",
       "1        20 to 99 employees       ...            Strongly disagree   Male   \n",
       "2  10,000 or more employees       ...                     Disagree   Male   \n",
       "3  10,000 or more employees       ...                     Disagree   Male   \n",
       "4        10 to 19 employees       ...                          NaN    NaN   \n",
       "\n",
       "  HighestEducationParents                          Race         SurveyLong  \\\n",
       "0             High school  White or of European descent  Strongly disagree   \n",
       "1       A master's degree  White or of European descent     Somewhat agree   \n",
       "2   A professional degree  White or of European descent     Somewhat agree   \n",
       "3       A doctoral degree  White or of European descent              Agree   \n",
       "4                     NaN                           NaN                NaN   \n",
       "\n",
       "  QuestionsInteresting QuestionsConfusing InterestedAnswers    Salary  \\\n",
       "0       Strongly agree           Disagree    Strongly agree       NaN   \n",
       "1       Somewhat agree           Disagree    Strongly agree       NaN   \n",
       "2                Agree           Disagree             Agree  113750.0   \n",
       "3                Agree     Somewhat agree    Strongly agree       NaN   \n",
       "4                  NaN                NaN               NaN       NaN   \n",
       "\n",
       "   ExpectedSalary  \n",
       "0             NaN  \n",
       "1         37500.0  \n",
       "2             NaN  \n",
       "3             NaN  \n",
       "4             NaN  \n",
       "\n",
       "[5 rows x 154 columns]"
      ]
     },
     "execution_count": 199,
     "metadata": {},
     "output_type": "execute_result"
    }
   ],
   "source": [
    "# Gather the data\n",
    "\n",
    "df = pd.read_csv('./survey_results_public.csv')\n",
    "\n",
    "# Assess the data\n",
    "\n",
    "print(df.shape)\n",
    "print(df.info())\n",
    "df.head()"
   ]
  },
  {
   "cell_type": "code",
   "execution_count": 200,
   "metadata": {},
   "outputs": [
    {
     "data": {
      "text/plain": [
       "Index(['Respondent', 'Professional', 'ProgramHobby', 'Country', 'University',\n",
       "       'EmploymentStatus', 'FormalEducation', 'MajorUndergrad', 'HomeRemote',\n",
       "       'CompanySize',\n",
       "       ...\n",
       "       'StackOverflowMakeMoney', 'Gender', 'HighestEducationParents', 'Race',\n",
       "       'SurveyLong', 'QuestionsInteresting', 'QuestionsConfusing',\n",
       "       'InterestedAnswers', 'Salary', 'ExpectedSalary'],\n",
       "      dtype='object', length=154)"
      ]
     },
     "execution_count": 200,
     "metadata": {},
     "output_type": "execute_result"
    }
   ],
   "source": [
    "# Continue assessing the data\n",
    "\n",
    "# What kind information is provied?\n",
    "df.columns\n",
    "\n"
   ]
  },
  {
   "cell_type": "code",
   "execution_count": 201,
   "metadata": {},
   "outputs": [
    {
     "data": {
      "text/plain": [
       "Respondent                      0.000000\n",
       "Professional                    0.000000\n",
       "ProgramHobby                    0.000000\n",
       "Country                         0.000000\n",
       "University                      0.000000\n",
       "EmploymentStatus                0.000000\n",
       "FormalEducation                 0.000000\n",
       "MajorUndergrad                 16.638776\n",
       "HomeRemote                     14.367995\n",
       "CompanySize                    24.264477\n",
       "CompanyType                    24.457114\n",
       "YearsProgram                    0.480620\n",
       "YearsCodedJob                  20.435087\n",
       "YearsCodedJobPast              98.104763\n",
       "DeveloperType                  29.706958\n",
       "WebDeveloperType               79.187422\n",
       "MobileDeveloperType            96.978129\n",
       "NonDeveloperType               90.484900\n",
       "CareerSatisfaction             16.922867\n",
       "JobSatisfaction                21.435243\n",
       "ExCoderReturn                  98.204001\n",
       "ExCoderNotForMe                98.207892\n",
       "ExCoderBalance                 98.204001\n",
       "ExCoder10Years                 98.215676\n",
       "ExCoderBelonged                98.194271\n",
       "ExCoderSkills                  98.180651\n",
       "ExCoderWillNotCode             98.205946\n",
       "ExCoderActive                  98.190380\n",
       "PronounceGIF                    0.747198\n",
       "ProblemSolving                 39.109200\n",
       "                                 ...    \n",
       "InfluenceRecruitment           57.997354\n",
       "InfluenceCommunication         58.012920\n",
       "StackOverflowDescribes         28.136675\n",
       "StackOverflowSatisfaction      28.798257\n",
       "StackOverflowDevices           31.501012\n",
       "StackOverflowFoundAnswer       33.277553\n",
       "StackOverflowCopiedCode        34.018913\n",
       "StackOverflowJobListing        34.877024\n",
       "StackOverflowCompanyPage       34.941236\n",
       "StackOverflowJobSearch         34.980153\n",
       "StackOverflowNewQuestion       34.585149\n",
       "StackOverflowAnswer            34.705791\n",
       "StackOverflowMetaChat          34.995719\n",
       "StackOverflowAdsRelevant       40.035414\n",
       "StackOverflowAdsDistracting    38.245252\n",
       "StackOverflowModeration        41.374144\n",
       "StackOverflowCommunity         36.935710\n",
       "StackOverflowHelpful           33.946918\n",
       "StackOverflowBetter            34.522883\n",
       "StackOverflowWhatDo            35.069661\n",
       "StackOverflowMakeMoney         39.558686\n",
       "Gender                         31.804561\n",
       "HighestEducationParents        32.016656\n",
       "Race                           35.723459\n",
       "SurveyLong                     32.440847\n",
       "QuestionsInteresting           32.798879\n",
       "QuestionsConfusing             33.026541\n",
       "InterestedAnswers              32.650996\n",
       "Salary                         74.916329\n",
       "ExpectedSalary                 95.007005\n",
       "Length: 154, dtype: float64"
      ]
     },
     "execution_count": 201,
     "metadata": {},
     "output_type": "execute_result"
    }
   ],
   "source": [
    "# % missing values\n",
    "df.isnull().sum()/ df.shape[0]*100"
   ]
  },
  {
   "cell_type": "markdown",
   "metadata": {},
   "source": [
    "## 3. DATA PREPARATION"
   ]
  },
  {
   "cell_type": "code",
   "execution_count": 202,
   "metadata": {},
   "outputs": [
    {
     "data": {
      "text/html": [
       "<div>\n",
       "<style scoped>\n",
       "    .dataframe tbody tr th:only-of-type {\n",
       "        vertical-align: middle;\n",
       "    }\n",
       "\n",
       "    .dataframe tbody tr th {\n",
       "        vertical-align: top;\n",
       "    }\n",
       "\n",
       "    .dataframe thead th {\n",
       "        text-align: right;\n",
       "    }\n",
       "</style>\n",
       "<table border=\"1\" class=\"dataframe\">\n",
       "  <thead>\n",
       "    <tr style=\"text-align: right;\">\n",
       "      <th></th>\n",
       "      <th>EmploymentStatus</th>\n",
       "      <th>StackOverflowDescribes</th>\n",
       "      <th>StackOverflowSatisfaction</th>\n",
       "      <th>StackOverflowFoundAnswer</th>\n",
       "      <th>StackOverflowCopiedCode</th>\n",
       "      <th>StackOverflowJobListing</th>\n",
       "      <th>StackOverflowCompanyPage</th>\n",
       "      <th>StackOverflowJobSearch</th>\n",
       "      <th>StackOverflowNewQuestion</th>\n",
       "      <th>StackOverflowAnswer</th>\n",
       "      <th>StackOverflowMetaChat</th>\n",
       "      <th>StackOverflowAdsRelevant</th>\n",
       "      <th>StackOverflowAdsDistracting</th>\n",
       "      <th>StackOverflowModeration</th>\n",
       "      <th>StackOverflowCommunity</th>\n",
       "      <th>StackOverflowHelpful</th>\n",
       "      <th>StackOverflowBetter</th>\n",
       "      <th>StackOverflowWhatDo</th>\n",
       "      <th>StackOverflowMakeMoney</th>\n",
       "    </tr>\n",
       "  </thead>\n",
       "  <tbody>\n",
       "    <tr>\n",
       "      <th>0</th>\n",
       "      <td>Not employed, and not looking for work</td>\n",
       "      <td>I have created a CV or Developer Story on Stac...</td>\n",
       "      <td>9.0</td>\n",
       "      <td>At least once each week</td>\n",
       "      <td>Haven't done at all</td>\n",
       "      <td>Once or twice</td>\n",
       "      <td>Haven't done at all</td>\n",
       "      <td>Haven't done at all</td>\n",
       "      <td>Several times</td>\n",
       "      <td>Several times</td>\n",
       "      <td>Once or twice</td>\n",
       "      <td>Somewhat agree</td>\n",
       "      <td>Strongly disagree</td>\n",
       "      <td>Strongly disagree</td>\n",
       "      <td>Strongly agree</td>\n",
       "      <td>Agree</td>\n",
       "      <td>Strongly agree</td>\n",
       "      <td>Strongly agree</td>\n",
       "      <td>Strongly disagree</td>\n",
       "    </tr>\n",
       "    <tr>\n",
       "      <th>1</th>\n",
       "      <td>Employed part-time</td>\n",
       "      <td>I have created a CV or Developer Story on Stac...</td>\n",
       "      <td>8.0</td>\n",
       "      <td>Several times</td>\n",
       "      <td>Several times</td>\n",
       "      <td>Once or twice</td>\n",
       "      <td>Once or twice</td>\n",
       "      <td>Once or twice</td>\n",
       "      <td>Haven't done at all</td>\n",
       "      <td>Several times</td>\n",
       "      <td>At least once each week</td>\n",
       "      <td>Disagree</td>\n",
       "      <td>Strongly disagree</td>\n",
       "      <td>Strongly disagree</td>\n",
       "      <td>Strongly agree</td>\n",
       "      <td>Agree</td>\n",
       "      <td>Strongly agree</td>\n",
       "      <td>Strongly agree</td>\n",
       "      <td>Strongly disagree</td>\n",
       "    </tr>\n",
       "    <tr>\n",
       "      <th>2</th>\n",
       "      <td>Employed full-time</td>\n",
       "      <td>I have created a CV or Developer Story on Stac...</td>\n",
       "      <td>8.0</td>\n",
       "      <td>Once or twice</td>\n",
       "      <td>Haven't done at all</td>\n",
       "      <td>Haven't done at all</td>\n",
       "      <td>Haven't done at all</td>\n",
       "      <td>Haven't done at all</td>\n",
       "      <td>Haven't done at all</td>\n",
       "      <td>At least once each day</td>\n",
       "      <td>At least once each day</td>\n",
       "      <td>Disagree</td>\n",
       "      <td>Disagree</td>\n",
       "      <td>Strongly disagree</td>\n",
       "      <td>Strongly agree</td>\n",
       "      <td>Agree</td>\n",
       "      <td>Agree</td>\n",
       "      <td>Agree</td>\n",
       "      <td>Disagree</td>\n",
       "    </tr>\n",
       "    <tr>\n",
       "      <th>3</th>\n",
       "      <td>Employed full-time</td>\n",
       "      <td>I have created a CV or Developer Story on Stac...</td>\n",
       "      <td>10.0</td>\n",
       "      <td>At least once each week</td>\n",
       "      <td>Several times</td>\n",
       "      <td>At least once each week</td>\n",
       "      <td>Several times</td>\n",
       "      <td>At least once each week</td>\n",
       "      <td>Several times</td>\n",
       "      <td>At least once each day</td>\n",
       "      <td>At least once each day</td>\n",
       "      <td>Agree</td>\n",
       "      <td>Strongly disagree</td>\n",
       "      <td>Strongly disagree</td>\n",
       "      <td>Strongly agree</td>\n",
       "      <td>Strongly agree</td>\n",
       "      <td>Agree</td>\n",
       "      <td>Strongly agree</td>\n",
       "      <td>Disagree</td>\n",
       "    </tr>\n",
       "    <tr>\n",
       "      <th>4</th>\n",
       "      <td>Employed full-time</td>\n",
       "      <td>NaN</td>\n",
       "      <td>NaN</td>\n",
       "      <td>NaN</td>\n",
       "      <td>NaN</td>\n",
       "      <td>NaN</td>\n",
       "      <td>NaN</td>\n",
       "      <td>NaN</td>\n",
       "      <td>NaN</td>\n",
       "      <td>NaN</td>\n",
       "      <td>NaN</td>\n",
       "      <td>NaN</td>\n",
       "      <td>NaN</td>\n",
       "      <td>NaN</td>\n",
       "      <td>NaN</td>\n",
       "      <td>NaN</td>\n",
       "      <td>NaN</td>\n",
       "      <td>NaN</td>\n",
       "      <td>NaN</td>\n",
       "    </tr>\n",
       "  </tbody>\n",
       "</table>\n",
       "</div>"
      ],
      "text/plain": [
       "                         EmploymentStatus  \\\n",
       "0  Not employed, and not looking for work   \n",
       "1                      Employed part-time   \n",
       "2                      Employed full-time   \n",
       "3                      Employed full-time   \n",
       "4                      Employed full-time   \n",
       "\n",
       "                              StackOverflowDescribes  \\\n",
       "0  I have created a CV or Developer Story on Stac...   \n",
       "1  I have created a CV or Developer Story on Stac...   \n",
       "2  I have created a CV or Developer Story on Stac...   \n",
       "3  I have created a CV or Developer Story on Stac...   \n",
       "4                                                NaN   \n",
       "\n",
       "   StackOverflowSatisfaction StackOverflowFoundAnswer StackOverflowCopiedCode  \\\n",
       "0                        9.0  At least once each week     Haven't done at all   \n",
       "1                        8.0            Several times           Several times   \n",
       "2                        8.0            Once or twice     Haven't done at all   \n",
       "3                       10.0  At least once each week           Several times   \n",
       "4                        NaN                      NaN                     NaN   \n",
       "\n",
       "   StackOverflowJobListing StackOverflowCompanyPage   StackOverflowJobSearch  \\\n",
       "0            Once or twice      Haven't done at all      Haven't done at all   \n",
       "1            Once or twice            Once or twice            Once or twice   \n",
       "2      Haven't done at all      Haven't done at all      Haven't done at all   \n",
       "3  At least once each week            Several times  At least once each week   \n",
       "4                      NaN                      NaN                      NaN   \n",
       "\n",
       "  StackOverflowNewQuestion     StackOverflowAnswer    StackOverflowMetaChat  \\\n",
       "0            Several times           Several times            Once or twice   \n",
       "1      Haven't done at all           Several times  At least once each week   \n",
       "2      Haven't done at all  At least once each day   At least once each day   \n",
       "3            Several times  At least once each day   At least once each day   \n",
       "4                      NaN                     NaN                      NaN   \n",
       "\n",
       "  StackOverflowAdsRelevant StackOverflowAdsDistracting  \\\n",
       "0           Somewhat agree           Strongly disagree   \n",
       "1                 Disagree           Strongly disagree   \n",
       "2                 Disagree                    Disagree   \n",
       "3                    Agree           Strongly disagree   \n",
       "4                      NaN                         NaN   \n",
       "\n",
       "  StackOverflowModeration StackOverflowCommunity StackOverflowHelpful  \\\n",
       "0       Strongly disagree         Strongly agree                Agree   \n",
       "1       Strongly disagree         Strongly agree                Agree   \n",
       "2       Strongly disagree         Strongly agree                Agree   \n",
       "3       Strongly disagree         Strongly agree       Strongly agree   \n",
       "4                     NaN                    NaN                  NaN   \n",
       "\n",
       "  StackOverflowBetter StackOverflowWhatDo StackOverflowMakeMoney  \n",
       "0      Strongly agree      Strongly agree      Strongly disagree  \n",
       "1      Strongly agree      Strongly agree      Strongly disagree  \n",
       "2               Agree               Agree               Disagree  \n",
       "3               Agree      Strongly agree               Disagree  \n",
       "4                 NaN                 NaN                    NaN  "
      ]
     },
     "execution_count": 202,
     "metadata": {},
     "output_type": "execute_result"
    }
   ],
   "source": [
    "# Drop unused columns\n",
    "columns_to_drop = ['Respondent' , 'Professional' , 'ProgramHobby' , 'Country' , 'University' , \n",
    "                   'FormalEducation' , 'MajorUndergrad' , 'HomeRemote' , \n",
    "                   'CompanySize' , 'CompanyType' , 'YearsProgram' , 'YearsCodedJob' , \n",
    "                   'YearsCodedJobPast' , 'DeveloperType' , 'WebDeveloperType' , 'MobileDeveloperType' , \n",
    "                   'NonDeveloperType' , 'CareerSatisfaction' , 'JobSatisfaction' , 'ExCoderReturn' , \n",
    "                   'ExCoderNotForMe' , 'ExCoderBalance' , 'ExCoder10Years' , 'ExCoderBelonged' , \n",
    "                   'ExCoderSkills' , 'ExCoderWillNotCode' , 'ExCoderActive' , 'PronounceGIF' , \n",
    "                   'ProblemSolving' , 'BuildingThings' , 'LearningNewTech' , 'BoringDetails' , \n",
    "                   'JobSecurity' , 'DiversityImportant' , 'AnnoyingUI' , 'FriendsDevelopers' , \n",
    "                   'RightWrongWay' , 'UnderstandComputers' , 'SeriousWork' , 'InvestTimeTools' , \n",
    "                   'WorkPayCare' , 'KinshipDevelopers' , 'ChallengeMyself' , 'CompetePeers' , \n",
    "                   'ChangeWorld' , 'JobSeekingStatus' , 'HoursPerWeek' , 'LastNewJob' , \n",
    "                   'AssessJobIndustry' , 'AssessJobRole' , 'AssessJobExp' , 'AssessJobDept' , \n",
    "                   'AssessJobTech' , 'AssessJobProjects' , 'AssessJobCompensation' , 'AssessJobOffice' , \n",
    "                   'AssessJobCommute' , 'AssessJobRemote' , 'AssessJobLeaders' , 'AssessJobProfDevel' , \n",
    "                   'AssessJobDiversity' , 'AssessJobProduct' , 'AssessJobFinances' , 'ImportantBenefits' , \n",
    "                   'ClickyKeys' , 'JobProfile' , 'ResumePrompted' , 'LearnedHiring' , \n",
    "                   'ImportantHiringAlgorithms' , 'ImportantHiringTechExp' , \n",
    "                   'ImportantHiringCommunication' , 'ImportantHiringOpenSource' , \n",
    "                   'ImportantHiringPMExp' , 'ImportantHiringCompanies' , 'ImportantHiringTitles' , \n",
    "                   'ImportantHiringEducation' , 'ImportantHiringRep' , 'ImportantHiringGettingThingsDone' , \n",
    "                   'Currency' , 'Overpaid' , 'TabsSpaces' , 'EducationImportant' , 'EducationTypes' , \n",
    "                   'SelfTaughtTypes' , 'TimeAfterBootcamp' , 'CousinEducation' , 'WorkStart' , \n",
    "                   'HaveWorkedLanguage' , 'WantWorkLanguage' , 'HaveWorkedFramework' , \n",
    "                   'WantWorkFramework' , 'HaveWorkedDatabase' , 'WantWorkDatabase' , 'HaveWorkedPlatform' , \n",
    "                   'WantWorkPlatform' , 'IDE' , 'AuditoryEnvironment' , 'Methodology' , \n",
    "                   'VersionControl' , 'CheckInCode' , 'ShipIt' , 'OtherPeoplesCode' , \n",
    "                   'ProjectManagement' , 'EnjoyDebugging' , 'InTheZone' , 'DifficultCommunication' , \n",
    "                   'CollaborateRemote' , 'MetricAssess' , 'EquipmentSatisfiedMonitors' , \n",
    "                   'EquipmentSatisfiedCPU' , 'EquipmentSatisfiedRAM' , 'EquipmentSatisfiedStorage' , \n",
    "                   'EquipmentSatisfiedRW' , 'InfluenceInternet' , 'InfluenceWorkstation' , \n",
    "                   'InfluenceHardware' , 'InfluenceServers' , 'InfluenceTechStack' , \n",
    "                   'InfluenceDeptTech' , 'InfluenceVizTools' , 'InfluenceDatabase' , \n",
    "                   'InfluenceCloud' , 'InfluenceConsultants' , 'InfluenceRecruitment' , \n",
    "                   'InfluenceCommunication' , 'Gender' , 'HighestEducationParents' , 'Race' , \n",
    "                   'SurveyLong' , 'QuestionsInteresting' , 'QuestionsConfusing' , 'InterestedAnswers' ,\n",
    "                   'Salary' , 'ExpectedSalary', 'StackOverflowDevices']\n",
    "\n",
    "df.drop(columns_to_drop, axis=1, inplace=True)\n",
    "df.head()"
   ]
  },
  {
   "cell_type": "code",
   "execution_count": 203,
   "metadata": {},
   "outputs": [
    {
     "name": "stdout",
     "output_type": "stream",
     "text": [
      "0.28798256537982564\n"
     ]
    },
    {
     "data": {
      "image/png": "[encoded data removed]",
      "text/plain": [
       "<Figure size 432x288 with 1 Axes>"
      ]
     },
     "metadata": {
      "needs_background": "light"
     },
     "output_type": "display_data"
    }
   ],
   "source": [
    "# Explore the StackOverflow Satisfaction Status values\n",
    "\n",
    "print(df['StackOverflowSatisfaction'].isnull().mean()) # missing values\n",
    "\n",
    "status_vals = df.StackOverflowSatisfaction.value_counts()#Provide a pandas series of the counts for each Employment status\n",
    "\n",
    "# The below should be a bar chart of the proportion of individuals in each Employment category if your status_vals\n",
    "# is set up correctly.\n",
    "\n",
    "(status_vals/df.shape[0]).plot(kind=\"bar\");\n",
    "plt.title(\"What is the satisfaction level of StackOverflow site?\");"
   ]
  },
  {
   "cell_type": "code",
   "execution_count": 204,
   "metadata": {},
   "outputs": [
    {
     "data": {
      "text/plain": [
       "(36592, 19)"
      ]
     },
     "execution_count": 204,
     "metadata": {},
     "output_type": "execute_result"
    }
   ],
   "source": [
    "# Drop rows with missing StackOverflowSatisfaction values\n",
    "df = df.dropna(subset=['StackOverflowSatisfaction'], axis=0)\n",
    "df.shape"
   ]
  },
  {
   "cell_type": "code",
   "execution_count": 205,
   "metadata": {},
   "outputs": [
    {
     "data": {
      "text/html": [
       "<div>\n",
       "<style scoped>\n",
       "    .dataframe tbody tr th:only-of-type {\n",
       "        vertical-align: middle;\n",
       "    }\n",
       "\n",
       "    .dataframe tbody tr th {\n",
       "        vertical-align: top;\n",
       "    }\n",
       "\n",
       "    .dataframe thead th {\n",
       "        text-align: right;\n",
       "    }\n",
       "</style>\n",
       "<table border=\"1\" class=\"dataframe\">\n",
       "  <thead>\n",
       "    <tr style=\"text-align: right;\">\n",
       "      <th></th>\n",
       "      <th>StackOverflowSatisfaction</th>\n",
       "    </tr>\n",
       "  </thead>\n",
       "  <tbody>\n",
       "    <tr>\n",
       "      <th>count</th>\n",
       "      <td>36592.000000</td>\n",
       "    </tr>\n",
       "    <tr>\n",
       "      <th>mean</th>\n",
       "      <td>8.429875</td>\n",
       "    </tr>\n",
       "    <tr>\n",
       "      <th>std</th>\n",
       "      <td>1.390635</td>\n",
       "    </tr>\n",
       "    <tr>\n",
       "      <th>min</th>\n",
       "      <td>0.000000</td>\n",
       "    </tr>\n",
       "    <tr>\n",
       "      <th>25%</th>\n",
       "      <td>8.000000</td>\n",
       "    </tr>\n",
       "    <tr>\n",
       "      <th>50%</th>\n",
       "      <td>9.000000</td>\n",
       "    </tr>\n",
       "    <tr>\n",
       "      <th>75%</th>\n",
       "      <td>10.000000</td>\n",
       "    </tr>\n",
       "    <tr>\n",
       "      <th>max</th>\n",
       "      <td>10.000000</td>\n",
       "    </tr>\n",
       "  </tbody>\n",
       "</table>\n",
       "</div>"
      ],
      "text/plain": [
       "       StackOverflowSatisfaction\n",
       "count               36592.000000\n",
       "mean                    8.429875\n",
       "std                     1.390635\n",
       "min                     0.000000\n",
       "25%                     8.000000\n",
       "50%                     9.000000\n",
       "75%                    10.000000\n",
       "max                    10.000000"
      ]
     },
     "execution_count": 205,
     "metadata": {},
     "output_type": "execute_result"
    }
   ],
   "source": [
    "df.describe()"
   ]
  },
  {
   "cell_type": "markdown",
   "metadata": {},
   "source": [
    "## 4. ANSWER THE BUSINESS QUESTIONS\n",
    "\n",
    "The business question I have are which all parameters determine the level of satisfaction the users have for Stackoverflow site. To understand that I will explore some features here to see any visible trends."
   ]
  },
  {
   "cell_type": "code",
   "execution_count": 215,
   "metadata": {},
   "outputs": [
    {
     "data": {
      "image/png": "[encoded data removed]",
      "text/plain": [
       "<Figure size 432x288 with 1 Axes>"
      ]
     },
     "metadata": {
      "needs_background": "light"
     },
     "output_type": "display_data"
    }
   ],
   "source": [
    "res = df.groupby(['EmploymentStatus']).mean()['StackOverflowSatisfaction'].sort_values().dropna()\n",
    "res.plot(kind=\"bar\");\n",
    "plt.title(\"StackOverflow Satisfaction Vs. Employment Status\");\n",
    "\n",
    "# res = df.groupby(['EmploymentStatus']).median()['StackOverflowSatisfaction'].sort_values().dropna()\n",
    "# res"
   ]
  },
  {
   "cell_type": "markdown",
   "metadata": {},
   "source": [
    "**Business Question: How does StackOverflow Satisfaction levels vary with employment status?**\n",
    "\n",
    "Clearly, The employeed people are more satisfied with (and value!) the stack overflow when compared to those not in employment (volunteerly or otherwise) currently. One of the possible reasons may be the dependence of job holders on Stack overflow for the troubleshooting in their programming assignments."
   ]
  },
  {
   "cell_type": "code",
   "execution_count": 217,
   "metadata": {
    "scrolled": true
   },
   "outputs": [
    {
     "data": {
      "image/png": "[encoded data removed]",
      "text/plain": [
       "<Figure size 432x288 with 1 Axes>"
      ]
     },
     "metadata": {
      "needs_background": "light"
     },
     "output_type": "display_data"
    }
   ],
   "source": [
    "res = df.groupby(['StackOverflowDescribes']).mean()['StackOverflowSatisfaction'].sort_values().dropna()\n",
    "res.plot(kind=\"bar\");\n",
    "plt.title(\"StackOverflow Satisfaction per activity/ site exposure level\");"
   ]
  },
  {
   "cell_type": "markdown",
   "metadata": {},
   "source": [
    "**Business Question: How does StackOverflow Satisfaction levels vary with activity level on stack overflow?**\n",
    "\n",
    "Those who have created a CV or Developer story of Stackoverflow are more satisfied with it. Possibly because they become better acquainted of the site benefits as they engage in these activities.\n"
   ]
  },
  {
   "cell_type": "code",
   "execution_count": 218,
   "metadata": {},
   "outputs": [
    {
     "data": {
      "image/png": "[encoded data removed]",
      "text/plain": [
       "<Figure size 432x288 with 1 Axes>"
      ]
     },
     "metadata": {
      "needs_background": "light"
     },
     "output_type": "display_data"
    }
   ],
   "source": [
    "res = df.groupby(['StackOverflowFoundAnswer']).mean()['StackOverflowSatisfaction'].sort_values().dropna()\n",
    "res.plot(kind=\"bar\");\n",
    "plt.title(\"StackOverflow Satisfaction Vs its benefits received\");"
   ]
  },
  {
   "cell_type": "markdown",
   "metadata": {},
   "source": [
    "**Quite Obvious conclusion - more the benefits extracted, more is the satisfaction level...**"
   ]
  },
  {
   "cell_type": "code",
   "execution_count": 186,
   "metadata": {},
   "outputs": [
    {
     "data": {
      "image/png": "[encoded data removed]",
      "text/plain": [
       "<Figure size 432x288 with 1 Axes>"
      ]
     },
     "metadata": {
      "needs_background": "light"
     },
     "output_type": "display_data"
    }
   ],
   "source": [
    "res = df.groupby(['StackOverflowAdsRelevant']).mean()['StackOverflowSatisfaction'].sort_values().dropna()\n",
    "res.plot(kind=\"bar\");\n",
    "plt.title(\"StackOverflow Satisfaction per Ad relevance perception\");\n"
   ]
  },
  {
   "cell_type": "code",
   "execution_count": 187,
   "metadata": {},
   "outputs": [
    {
     "data": {
      "image/png": "[encoded data removed]",
      "text/plain": [
       "<Figure size 432x288 with 1 Axes>"
      ]
     },
     "metadata": {
      "needs_background": "light"
     },
     "output_type": "display_data"
    }
   ],
   "source": [
    "res = df.groupby(['StackOverflowAdsDistracting']).mean()['StackOverflowSatisfaction'].sort_values().dropna()\n",
    "res.plot(kind=\"bar\");\n",
    "plt.title(\"StackOverflow Satisfaction Vs Ads Distraction Perception\");"
   ]
  },
  {
   "cell_type": "markdown",
   "metadata": {},
   "source": [
    "**Business Question: How is the perception of Ads relevance/ disturbance impact the user satisfaction level?**\n",
    "\n",
    "As expected, the perception of Ads relevance is directly proportional to satisfaction with the site. So best way to increase the Ads revenue and the satisfaction with the site for Stacks Overflow is to focus on the relevance of the ads they choose for their users.**"
   ]
  },
  {
   "cell_type": "code",
   "execution_count": 397,
   "metadata": {},
   "outputs": [],
   "source": [
    "def plot_satisfaction(group_by_columns):\n",
    "    '''\n",
    "    INPUT - List of columns' values you would like to plot the user satisfaction with\n",
    "            column_name - string - the name of the column you would like to know about\n",
    "    OUTPUT - \n",
    "            Plots of user satisfaction against listed columns\n",
    "    '''\n",
    "\n",
    "    for i in range(len(group_by_columns)):\n",
    "        print(i)\n",
    "        print((group_by_columns)[i])\n",
    "        res = df.groupby((group_by_columns)[i]).mean()['StackOverflowSatisfaction'].sort_values().dropna()\n",
    "        print(res)\n",
    "        fig, axs = plt.subplots(1,2)\n",
    "        res.plot(kind=\"bar\",subplots=True, ax=axs[0]);\n",
    "        # print(plt)\n",
    "        # plt.show\n",
    "    \n",
    "    \n",
    "    return plt\n",
    "    \n"
   ]
  },
  {
   "cell_type": "code",
   "execution_count": 398,
   "metadata": {},
   "outputs": [
    {
     "name": "stdout",
     "output_type": "stream",
     "text": [
      "0\n",
      "StackOverflowAdsDistracting\n",
      "StackOverflowAdsDistracting\n",
      "Strongly agree       7.811153\n",
      "Agree                8.055336\n",
      "Somewhat agree       8.272497\n",
      "Disagree             8.493136\n",
      "Strongly disagree    8.803124\n",
      "Name: StackOverflowSatisfaction, dtype: float64\n",
      "1\n",
      "StackOverflowAdsRelevant\n",
      "StackOverflowAdsRelevant\n",
      "Strongly disagree    8.000366\n",
      "Disagree             8.239107\n",
      "Somewhat agree       8.531698\n",
      "Agree                8.770597\n",
      "Strongly agree       9.063898\n",
      "Name: StackOverflowSatisfaction, dtype: float64\n",
      "2\n",
      "StackOverflowFoundAnswer\n",
      "StackOverflowFoundAnswer\n",
      "Haven't done at all        7.206785\n",
      "Once or twice              7.586159\n",
      "Several times              8.280444\n",
      "At least once each week    8.644614\n",
      "At least once each day     8.983520\n",
      "Name: StackOverflowSatisfaction, dtype: float64\n",
      "3\n",
      "StackOverflowDescribes\n",
      "StackOverflowDescribes\n",
      "I've visited Stack Overflow, but haven't logged in/created an account             8.237601\n",
      "I have a login for Stack Overflow, but haven't created a CV or Developer Story    8.445951\n",
      "I have created a CV or Developer Story on Stack Overflow                          8.567240\n",
      "Name: StackOverflowSatisfaction, dtype: float64\n"
     ]
    },
    {
     "data": {
      "text/plain": [
       "<module 'matplotlib.pyplot' from 'C:\\\\Users\\\\manishb\\\\AppData\\\\Local\\\\Continuum\\\\anaconda3\\\\lib\\\\site-packages\\\\matplotlib\\\\pyplot.py'>"
      ]
     },
     "execution_count": 398,
     "metadata": {},
     "output_type": "execute_result"
    },
    {
     "data": {
      "image/png": "[encoded data removed]",
      "text/plain": [
       "<Figure size 432x288 with 2 Axes>"
      ]
     },
     "metadata": {
      "needs_background": "light"
     },
     "output_type": "display_data"
    },
    {
     "data": {
      "image/png": "[encoded data removed]",
      "text/plain": [
       "<Figure size 432x288 with 2 Axes>"
      ]
     },
     "metadata": {
      "needs_background": "light"
     },
     "output_type": "display_data"
    },
    {
     "data": {
      "image/png": "[encoded data removed]",
      "text/plain": [
       "<Figure size 432x288 with 2 Axes>"
      ]
     },
     "metadata": {
      "needs_background": "light"
     },
     "output_type": "display_data"
    },
    {
     "data": {
      "image/png": "[encoded data removed]",
      "text/plain": [
       "<Figure size 432x288 with 2 Axes>"
      ]
     },
     "metadata": {
      "needs_background": "light"
     },
     "output_type": "display_data"
    }
   ],
   "source": [
    "plot_satisfaction(['StackOverflowAdsDistracting','StackOverflowAdsRelevant', 'StackOverflowFoundAnswer', 'StackOverflowDescribes'])"
   ]
  },
  {
   "cell_type": "markdown",
   "metadata": {},
   "source": [
    "## 5. DATA PREPARATION BEFORE MODELLING"
   ]
  },
  {
   "cell_type": "code",
   "execution_count": 188,
   "metadata": {},
   "outputs": [
    {
     "name": "stdout",
     "output_type": "stream",
     "text": [
      "(36592, 19)\n",
      "(25531, 19)\n"
     ]
    }
   ],
   "source": [
    "# Remove null values\n",
    "\n",
    "print(df.shape)\n",
    "df.dropna(axis=0, how='any', inplace=True)\n",
    "print(df.shape)"
   ]
  },
  {
   "cell_type": "code",
   "execution_count": 189,
   "metadata": {},
   "outputs": [
    {
     "data": {
      "text/plain": [
       "(25531, 91)"
      ]
     },
     "execution_count": 189,
     "metadata": {},
     "output_type": "execute_result"
    }
   ],
   "source": [
    "# One Hot Encoding for categorical features\n",
    "one_hot_columns = ['EmploymentStatus' , 'StackOverflowDescribes' , 'StackOverflowFoundAnswer' , 'StackOverflowCopiedCode' , \n",
    "                   'StackOverflowJobListing' , 'StackOverflowCompanyPage' , 'StackOverflowJobSearch' ,\n",
    "                   'StackOverflowNewQuestion' , 'StackOverflowAnswer' , 'StackOverflowMetaChat' , \n",
    "                   'StackOverflowAdsRelevant' , 'StackOverflowAdsDistracting' , 'StackOverflowModeration' ,\n",
    "                   'StackOverflowCommunity' , 'StackOverflowHelpful' , 'StackOverflowBetter' , \n",
    "                   'StackOverflowWhatDo' , 'StackOverflowMakeMoney']\n",
    "df = pd.get_dummies(df, columns=one_hot_columns, prefix = one_hot_columns)\n",
    "df.shape"
   ]
  },
  {
   "cell_type": "code",
   "execution_count": 190,
   "metadata": {},
   "outputs": [
    {
     "data": {
      "text/html": [
       "<div>\n",
       "<style scoped>\n",
       "    .dataframe tbody tr th:only-of-type {\n",
       "        vertical-align: middle;\n",
       "    }\n",
       "\n",
       "    .dataframe tbody tr th {\n",
       "        vertical-align: top;\n",
       "    }\n",
       "\n",
       "    .dataframe thead th {\n",
       "        text-align: right;\n",
       "    }\n",
       "</style>\n",
       "<table border=\"1\" class=\"dataframe\">\n",
       "  <thead>\n",
       "    <tr style=\"text-align: right;\">\n",
       "      <th></th>\n",
       "      <th>StackOverflowSatisfaction</th>\n",
       "      <th>EmploymentStatus_Employed full-time</th>\n",
       "      <th>EmploymentStatus_Employed part-time</th>\n",
       "      <th>EmploymentStatus_I prefer not to say</th>\n",
       "      <th>EmploymentStatus_Independent contractor, freelancer, or self-employed</th>\n",
       "      <th>EmploymentStatus_Not employed, and not looking for work</th>\n",
       "      <th>EmploymentStatus_Not employed, but looking for work</th>\n",
       "      <th>EmploymentStatus_Retired</th>\n",
       "      <th>StackOverflowDescribes_I have a login for Stack Overflow, but haven't created a CV or Developer Story</th>\n",
       "      <th>StackOverflowDescribes_I have created a CV or Developer Story on Stack Overflow</th>\n",
       "      <th>...</th>\n",
       "      <th>StackOverflowWhatDo_Agree</th>\n",
       "      <th>StackOverflowWhatDo_Disagree</th>\n",
       "      <th>StackOverflowWhatDo_Somewhat agree</th>\n",
       "      <th>StackOverflowWhatDo_Strongly agree</th>\n",
       "      <th>StackOverflowWhatDo_Strongly disagree</th>\n",
       "      <th>StackOverflowMakeMoney_Agree</th>\n",
       "      <th>StackOverflowMakeMoney_Disagree</th>\n",
       "      <th>StackOverflowMakeMoney_Somewhat agree</th>\n",
       "      <th>StackOverflowMakeMoney_Strongly agree</th>\n",
       "      <th>StackOverflowMakeMoney_Strongly disagree</th>\n",
       "    </tr>\n",
       "  </thead>\n",
       "  <tbody>\n",
       "    <tr>\n",
       "      <th>0</th>\n",
       "      <td>9.0</td>\n",
       "      <td>0</td>\n",
       "      <td>0</td>\n",
       "      <td>0</td>\n",
       "      <td>0</td>\n",
       "      <td>1</td>\n",
       "      <td>0</td>\n",
       "      <td>0</td>\n",
       "      <td>0</td>\n",
       "      <td>1</td>\n",
       "      <td>...</td>\n",
       "      <td>0</td>\n",
       "      <td>0</td>\n",
       "      <td>0</td>\n",
       "      <td>1</td>\n",
       "      <td>0</td>\n",
       "      <td>0</td>\n",
       "      <td>0</td>\n",
       "      <td>0</td>\n",
       "      <td>0</td>\n",
       "      <td>1</td>\n",
       "    </tr>\n",
       "    <tr>\n",
       "      <th>1</th>\n",
       "      <td>8.0</td>\n",
       "      <td>0</td>\n",
       "      <td>1</td>\n",
       "      <td>0</td>\n",
       "      <td>0</td>\n",
       "      <td>0</td>\n",
       "      <td>0</td>\n",
       "      <td>0</td>\n",
       "      <td>0</td>\n",
       "      <td>1</td>\n",
       "      <td>...</td>\n",
       "      <td>0</td>\n",
       "      <td>0</td>\n",
       "      <td>0</td>\n",
       "      <td>1</td>\n",
       "      <td>0</td>\n",
       "      <td>0</td>\n",
       "      <td>0</td>\n",
       "      <td>0</td>\n",
       "      <td>0</td>\n",
       "      <td>1</td>\n",
       "    </tr>\n",
       "    <tr>\n",
       "      <th>2</th>\n",
       "      <td>8.0</td>\n",
       "      <td>1</td>\n",
       "      <td>0</td>\n",
       "      <td>0</td>\n",
       "      <td>0</td>\n",
       "      <td>0</td>\n",
       "      <td>0</td>\n",
       "      <td>0</td>\n",
       "      <td>0</td>\n",
       "      <td>1</td>\n",
       "      <td>...</td>\n",
       "      <td>1</td>\n",
       "      <td>0</td>\n",
       "      <td>0</td>\n",
       "      <td>0</td>\n",
       "      <td>0</td>\n",
       "      <td>0</td>\n",
       "      <td>1</td>\n",
       "      <td>0</td>\n",
       "      <td>0</td>\n",
       "      <td>0</td>\n",
       "    </tr>\n",
       "    <tr>\n",
       "      <th>3</th>\n",
       "      <td>10.0</td>\n",
       "      <td>1</td>\n",
       "      <td>0</td>\n",
       "      <td>0</td>\n",
       "      <td>0</td>\n",
       "      <td>0</td>\n",
       "      <td>0</td>\n",
       "      <td>0</td>\n",
       "      <td>0</td>\n",
       "      <td>1</td>\n",
       "      <td>...</td>\n",
       "      <td>0</td>\n",
       "      <td>0</td>\n",
       "      <td>0</td>\n",
       "      <td>1</td>\n",
       "      <td>0</td>\n",
       "      <td>0</td>\n",
       "      <td>1</td>\n",
       "      <td>0</td>\n",
       "      <td>0</td>\n",
       "      <td>0</td>\n",
       "    </tr>\n",
       "    <tr>\n",
       "      <th>6</th>\n",
       "      <td>8.0</td>\n",
       "      <td>1</td>\n",
       "      <td>0</td>\n",
       "      <td>0</td>\n",
       "      <td>0</td>\n",
       "      <td>0</td>\n",
       "      <td>0</td>\n",
       "      <td>0</td>\n",
       "      <td>0</td>\n",
       "      <td>1</td>\n",
       "      <td>...</td>\n",
       "      <td>1</td>\n",
       "      <td>0</td>\n",
       "      <td>0</td>\n",
       "      <td>0</td>\n",
       "      <td>0</td>\n",
       "      <td>0</td>\n",
       "      <td>1</td>\n",
       "      <td>0</td>\n",
       "      <td>0</td>\n",
       "      <td>0</td>\n",
       "    </tr>\n",
       "  </tbody>\n",
       "</table>\n",
       "<p>5 rows × 91 columns</p>\n",
       "</div>"
      ],
      "text/plain": [
       "   StackOverflowSatisfaction  EmploymentStatus_Employed full-time  \\\n",
       "0                        9.0                                    0   \n",
       "1                        8.0                                    0   \n",
       "2                        8.0                                    1   \n",
       "3                       10.0                                    1   \n",
       "6                        8.0                                    1   \n",
       "\n",
       "   EmploymentStatus_Employed part-time  EmploymentStatus_I prefer not to say  \\\n",
       "0                                    0                                     0   \n",
       "1                                    1                                     0   \n",
       "2                                    0                                     0   \n",
       "3                                    0                                     0   \n",
       "6                                    0                                     0   \n",
       "\n",
       "   EmploymentStatus_Independent contractor, freelancer, or self-employed  \\\n",
       "0                                                  0                       \n",
       "1                                                  0                       \n",
       "2                                                  0                       \n",
       "3                                                  0                       \n",
       "6                                                  0                       \n",
       "\n",
       "   EmploymentStatus_Not employed, and not looking for work  \\\n",
       "0                                                  1         \n",
       "1                                                  0         \n",
       "2                                                  0         \n",
       "3                                                  0         \n",
       "6                                                  0         \n",
       "\n",
       "   EmploymentStatus_Not employed, but looking for work  \\\n",
       "0                                                  0     \n",
       "1                                                  0     \n",
       "2                                                  0     \n",
       "3                                                  0     \n",
       "6                                                  0     \n",
       "\n",
       "   EmploymentStatus_Retired  \\\n",
       "0                         0   \n",
       "1                         0   \n",
       "2                         0   \n",
       "3                         0   \n",
       "6                         0   \n",
       "\n",
       "   StackOverflowDescribes_I have a login for Stack Overflow, but haven't created a CV or Developer Story  \\\n",
       "0                                                  0                                                       \n",
       "1                                                  0                                                       \n",
       "2                                                  0                                                       \n",
       "3                                                  0                                                       \n",
       "6                                                  0                                                       \n",
       "\n",
       "   StackOverflowDescribes_I have created a CV or Developer Story on Stack Overflow  \\\n",
       "0                                                  1                                 \n",
       "1                                                  1                                 \n",
       "2                                                  1                                 \n",
       "3                                                  1                                 \n",
       "6                                                  1                                 \n",
       "\n",
       "                     ...                     StackOverflowWhatDo_Agree  \\\n",
       "0                    ...                                             0   \n",
       "1                    ...                                             0   \n",
       "2                    ...                                             1   \n",
       "3                    ...                                             0   \n",
       "6                    ...                                             1   \n",
       "\n",
       "   StackOverflowWhatDo_Disagree  StackOverflowWhatDo_Somewhat agree  \\\n",
       "0                             0                                   0   \n",
       "1                             0                                   0   \n",
       "2                             0                                   0   \n",
       "3                             0                                   0   \n",
       "6                             0                                   0   \n",
       "\n",
       "   StackOverflowWhatDo_Strongly agree  StackOverflowWhatDo_Strongly disagree  \\\n",
       "0                                   1                                      0   \n",
       "1                                   1                                      0   \n",
       "2                                   0                                      0   \n",
       "3                                   1                                      0   \n",
       "6                                   0                                      0   \n",
       "\n",
       "   StackOverflowMakeMoney_Agree  StackOverflowMakeMoney_Disagree  \\\n",
       "0                             0                                0   \n",
       "1                             0                                0   \n",
       "2                             0                                1   \n",
       "3                             0                                1   \n",
       "6                             0                                1   \n",
       "\n",
       "   StackOverflowMakeMoney_Somewhat agree  \\\n",
       "0                                      0   \n",
       "1                                      0   \n",
       "2                                      0   \n",
       "3                                      0   \n",
       "6                                      0   \n",
       "\n",
       "   StackOverflowMakeMoney_Strongly agree  \\\n",
       "0                                      0   \n",
       "1                                      0   \n",
       "2                                      0   \n",
       "3                                      0   \n",
       "6                                      0   \n",
       "\n",
       "   StackOverflowMakeMoney_Strongly disagree  \n",
       "0                                         1  \n",
       "1                                         1  \n",
       "2                                         0  \n",
       "3                                         0  \n",
       "6                                         0  \n",
       "\n",
       "[5 rows x 91 columns]"
      ]
     },
     "execution_count": 190,
     "metadata": {},
     "output_type": "execute_result"
    }
   ],
   "source": [
    "df.head()\n"
   ]
  },
  {
   "cell_type": "markdown",
   "metadata": {},
   "source": [
    "## 6. Train model and Measure Model Performance"
   ]
  },
  {
   "cell_type": "code",
   "execution_count": 191,
   "metadata": {},
   "outputs": [
    {
     "data": {
      "text/plain": [
       "90"
      ]
     },
     "execution_count": 191,
     "metadata": {},
     "output_type": "execute_result"
    }
   ],
   "source": [
    "y = df['StackOverflowSatisfaction']\n",
    "X = df.drop(['StackOverflowSatisfaction'], axis=1)\n",
    "X.shape[1]"
   ]
  },
  {
   "cell_type": "code",
   "execution_count": 192,
   "metadata": {},
   "outputs": [
    {
     "data": {
      "text/plain": [
       "(17871, 90)"
      ]
     },
     "execution_count": 192,
     "metadata": {},
     "output_type": "execute_result"
    }
   ],
   "source": [
    "# Split data for Training and Testing\n",
    "X_train, X_test, y_train, y_test = train_test_split(X, y, test_size=.3, random_state=42)\n",
    "X_train.shape"
   ]
  },
  {
   "cell_type": "code",
   "execution_count": 193,
   "metadata": {},
   "outputs": [
    {
     "name": "stdout",
     "output_type": "stream",
     "text": [
      "0.3481076053755907\n",
      "1.2791781167032605\n"
     ]
    }
   ],
   "source": [
    "ForestRegressor = RandomForestRegressor(n_estimators=500)\n",
    "ForestRegressor.fit(X_train, y_train)\n",
    "y_test_preds = ForestRegressor.predict(X_test)\n",
    "print(r2_score(y_test, y_test_preds))\n",
    "print(mean_squared_error(y_test, y_test_preds))"
   ]
  },
  {
   "cell_type": "code",
   "execution_count": 194,
   "metadata": {},
   "outputs": [
    {
     "data": {
      "text/html": [
       "<div>\n",
       "<style scoped>\n",
       "    .dataframe tbody tr th:only-of-type {\n",
       "        vertical-align: middle;\n",
       "    }\n",
       "\n",
       "    .dataframe tbody tr th {\n",
       "        vertical-align: top;\n",
       "    }\n",
       "\n",
       "    .dataframe thead th {\n",
       "        text-align: right;\n",
       "    }\n",
       "</style>\n",
       "<table border=\"1\" class=\"dataframe\">\n",
       "  <thead>\n",
       "    <tr style=\"text-align: right;\">\n",
       "      <th></th>\n",
       "      <th>Parameters</th>\n",
       "      <th>Coefs</th>\n",
       "    </tr>\n",
       "  </thead>\n",
       "  <tbody>\n",
       "    <tr>\n",
       "      <th>78</th>\n",
       "      <td>StackOverflowBetter_Strongly agree</td>\n",
       "      <td>0.142721</td>\n",
       "    </tr>\n",
       "    <tr>\n",
       "      <th>75</th>\n",
       "      <td>StackOverflowBetter_Agree</td>\n",
       "      <td>0.052277</td>\n",
       "    </tr>\n",
       "    <tr>\n",
       "      <th>63</th>\n",
       "      <td>StackOverflowModeration_Strongly agree</td>\n",
       "      <td>0.032495</td>\n",
       "    </tr>\n",
       "    <tr>\n",
       "      <th>73</th>\n",
       "      <td>StackOverflowHelpful_Strongly agree</td>\n",
       "      <td>0.031885</td>\n",
       "    </tr>\n",
       "    <tr>\n",
       "      <th>69</th>\n",
       "      <td>StackOverflowCommunity_Strongly disagree</td>\n",
       "      <td>0.029750</td>\n",
       "    </tr>\n",
       "    <tr>\n",
       "      <th>66</th>\n",
       "      <td>StackOverflowCommunity_Disagree</td>\n",
       "      <td>0.017323</td>\n",
       "    </tr>\n",
       "    <tr>\n",
       "      <th>13</th>\n",
       "      <td>StackOverflowFoundAnswer_Once or twice</td>\n",
       "      <td>0.015654</td>\n",
       "    </tr>\n",
       "    <tr>\n",
       "      <th>17</th>\n",
       "      <td>StackOverflowCopiedCode_Haven't done at all</td>\n",
       "      <td>0.015416</td>\n",
       "    </tr>\n",
       "    <tr>\n",
       "      <th>18</th>\n",
       "      <td>StackOverflowCopiedCode_Once or twice</td>\n",
       "      <td>0.014603</td>\n",
       "    </tr>\n",
       "    <tr>\n",
       "      <th>52</th>\n",
       "      <td>StackOverflowAdsRelevant_Somewhat agree</td>\n",
       "      <td>0.014004</td>\n",
       "    </tr>\n",
       "  </tbody>\n",
       "</table>\n",
       "</div>"
      ],
      "text/plain": [
       "                                     Parameters     Coefs\n",
       "78           StackOverflowBetter_Strongly agree  0.142721\n",
       "75                    StackOverflowBetter_Agree  0.052277\n",
       "63       StackOverflowModeration_Strongly agree  0.032495\n",
       "73          StackOverflowHelpful_Strongly agree  0.031885\n",
       "69     StackOverflowCommunity_Strongly disagree  0.029750\n",
       "66              StackOverflowCommunity_Disagree  0.017323\n",
       "13       StackOverflowFoundAnswer_Once or twice  0.015654\n",
       "17  StackOverflowCopiedCode_Haven't done at all  0.015416\n",
       "18        StackOverflowCopiedCode_Once or twice  0.014603\n",
       "52      StackOverflowAdsRelevant_Somewhat agree  0.014004"
      ]
     },
     "execution_count": 194,
     "metadata": {},
     "output_type": "execute_result"
    }
   ],
   "source": [
    "coefs_df = pd.DataFrame()\n",
    "\n",
    "coefs_df['Parameters'] = X_train.columns\n",
    "coefs_df['Coefs'] = ForestRegressor.feature_importances_\n",
    "coefs_df.sort_values('Coefs', ascending=False).head(10)"
   ]
  },
  {
   "cell_type": "markdown",
   "metadata": {},
   "source": [
    "In General the perception of 'Stack Overflow makes the Internet a better place' and 'The answers and code examples I get on Stack Overflow are helpful' have highest impact on user satisfaction over StackOverflow."
   ]
  },
  {
   "cell_type": "code",
   "execution_count": 195,
   "metadata": {},
   "outputs": [
    {
     "data": {
      "text/plain": [
       "<matplotlib.axes._subplots.AxesSubplot at 0x28a26d19f98>"
      ]
     },
     "execution_count": 195,
     "metadata": {},
     "output_type": "execute_result"
    },
    {
     "data": {
      "image/png": "[encoded data removed]",
      "text/plain": [
       "<Figure size 432x288 with 1 Axes>"
      ]
     },
     "metadata": {
      "needs_background": "light"
     },
     "output_type": "display_data"
    }
   ],
   "source": [
    "coefs_df.set_index('Parameters', inplace=True)\n",
    "coefs_df.sort_values('Coefs', ascending=False).head(5).plot(kind='bar', color='blue')"
   ]
  },
  {
   "cell_type": "code",
   "execution_count": 399,
   "metadata": {},
   "outputs": [
    {
     "data": {
      "text/plain": [
       "['[NbConvertApp] Converting notebook 3.8_Perceptron_Algorithm.ipynb to html',\n",
       " '[NbConvertApp] Writing 282957 bytes to 3.8_Perceptron_Algorithm.html',\n",
       " '[NbConvertApp] Converting notebook 4.16_Entropy.ipynb to html',\n",
       " '[NbConvertApp] Writing 276383 bytes to 4.16_Entropy.html',\n",
       " '[NbConvertApp] Converting notebook 4.18_DecisionTree.ipynb to html',\n",
       " '[NbConvertApp] Writing 287321 bytes to 4.18_DecisionTree.html',\n",
       " '[NbConvertApp] Converting notebook 4.19 Titanic Survival Exploration with Decision Trees.ipynb to html',\n",
       " '[NbConvertApp] Writing 280616 bytes to 4.19 Titanic Survival Exploration with Decision Trees.html',\n",
       " '[NbConvertApp] Converting notebook 5.15_Spam Classifier.ipynb to html',\n",
       " '[NbConvertApp] Writing 293717 bytes to 5.15_Spam Classifier.html',\n",
       " '[NbConvertApp] Converting notebook BackPropogation.ipynb to html',\n",
       " '[NbConvertApp] Writing 290935 bytes to BackPropogation.html',\n",
       " '[NbConvertApp] Converting notebook BMI Life Model.ipynb to html',\n",
       " '[NbConvertApp] Writing 282094 bytes to BMI Life Model.html',\n",
       " '[NbConvertApp] Converting notebook Boston Housing - MultiRegression.ipynb to html',\n",
       " '[NbConvertApp] Writing 299922 bytes to Boston Housing - MultiRegression.html',\n",
       " '[NbConvertApp] Converting notebook Feature_Scaling.ipynb to html',\n",
       " '[NbConvertApp] Writing 292117 bytes to Feature_Scaling.html',\n",
       " '[NbConvertApp] Converting notebook Finding-Donors.ipynb to html',\n",
       " '[NbConvertApp] Writing 328367 bytes to Finding-Donors.html',\n",
       " '[NbConvertApp] Converting notebook Gradient Descent.ipynb to html',\n",
       " '[NbConvertApp] Writing 279518 bytes to Gradient Descent.html',\n",
       " '[NbConvertApp] Converting notebook KERAS_XOR.ipynb to html',\n",
       " '[NbConvertApp] Writing 283171 bytes to KERAS_XOR.html',\n",
       " '[NbConvertApp] Converting notebook keyboard-shortcuts.ipynb to html',\n",
       " '[NbConvertApp] Writing 282929 bytes to keyboard-shortcuts.html',\n",
       " '[NbConvertApp] Converting notebook MSE.ipynb to html',\n",
       " '[NbConvertApp] Writing 288226 bytes to MSE.html',\n",
       " '[NbConvertApp] Converting notebook Multilayer_Perceptrons.ipynb to html',\n",
       " '[NbConvertApp] Writing 278059 bytes to Multilayer_Perceptrons.html',\n",
       " '[NbConvertApp] Converting notebook Polynomial_Regression.ipynb to html',\n",
       " '[NbConvertApp] Writing 293261 bytes to Polynomial_Regression.html',\n",
       " '[NbConvertApp] Converting notebook Regularization.ipynb to html',\n",
       " '[NbConvertApp] Writing 292342 bytes to Regularization.html',\n",
       " '[NbConvertApp] Converting notebook working-with-code-cells.ipynb to html',\n",
       " '[NbConvertApp] Writing 284862 bytes to working-with-code-cells.html',\n",
       " '[NbConvertApp] Converting notebook Write a Data Science Blog Post.ipynb to html',\n",
       " '[NbConvertApp] Writing 562902 bytes to Write a Data Science Blog Post.html']"
      ]
     },
     "execution_count": 399,
     "metadata": {},
     "output_type": "execute_result"
    }
   ],
   "source": [
    "!!jupyter nbconvert *.ipynb"
   ]
  },
  {
   "cell_type": "code",
   "execution_count": null,
   "metadata": {},
   "outputs": [],
   "source": []
  }
 ],
 "metadata": {
  "kernelspec": {
   "display_name": "Python 3",
   "language": "python",
   "name": "python3"
  },
  "language_info": {
   "codemirror_mode": {
    "name": "ipython",
    "version": 3
   },
   "file_extension": ".py",
   "mimetype": "text/x-python",
   "name": "python",
   "nbconvert_exporter": "python",
   "pygments_lexer": "ipython3",
   "version": "3.7.1"
  }
 },
 "nbformat": 4,
 "nbformat_minor": 2
}
